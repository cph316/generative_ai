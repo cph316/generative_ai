{
  "nbformat": 4,
  "nbformat_minor": 0,
  "metadata": {
    "colab": {
      "provenance": [],
      "gpuType": "T4",
      "include_colab_link": true
    },
    "kernelspec": {
      "name": "python3",
      "display_name": "Python 3"
    },
    "language_info": {
      "name": "python"
    },
    "accelerator": "GPU"
  },
  "cells": [
    {
      "cell_type": "markdown",
      "metadata": {
        "id": "view-in-github",
        "colab_type": "text"
      },
      "source": [
        "<a href=\"https://colab.research.google.com/github/cph316/generative_ai/blob/main/%E3%80%90HW7%E3%80%910401_%E7%94%A8Ollama_%E6%89%93%E9%80%A0%E8%87%AA%E5%B7%B1%E7%9A%84%E5%B0%8D%E8%A9%B1%E6%A9%9F%E5%99%A8%E4%BA%BA.ipynb\" target=\"_parent\"><img src=\"https://colab.research.google.com/assets/colab-badge.svg\" alt=\"Open In Colab\"/></a>"
      ]
    },
    {
      "cell_type": "markdown",
      "source": [
        "[Ollama](https://ollama.com/) 可以讓我們在自己的機器上跑開源的大型語言模型, 並且用 API 的方式呼叫。這裡我們介紹在 Colab 上跑, 並且分別用 OpenAI 的 API, 及 [`aisuite` 套件](https://github.com/andrewyng/aisuite) 來使用 Ollama 提供的大型語言模型。"
      ],
      "metadata": {
        "id": "w2ZaP8HOa2-G"
      }
    },
    {
      "cell_type": "markdown",
      "source": [
        "### 1. 安裝並執行 Ollama"
      ],
      "metadata": {
        "id": "o_m1Lr5Vbi7x"
      }
    },
    {
      "cell_type": "code",
      "source": [
        "!curl -fsSL https://ollama.ai/install.sh | sh\n",
        "\n",
        "# 需要跑 Ollama Server, 這裡要求放在背景執行\n",
        "!nohup ollama serve &\n",
        "\n",
        "#  Llama 3.2 4B 模型\n",
        "!ollama pull gemma3:4b"
      ],
      "metadata": {
        "id": "GYy1Nb7hH6Za"
      },
      "execution_count": null,
      "outputs": []
    },
    {
      "cell_type": "markdown",
      "source": [
        "### 2. 用 OpenAI API 使用"
      ],
      "metadata": {
        "id": "DZXJhweHcLTu"
      }
    },
    {
      "cell_type": "code",
      "source": [
        "import openai\n",
        "from openai import OpenAI\n",
        "\n",
        "api_key = \"ollama\"\n",
        "\n",
        "# 如同一般 OpenAI API 打開 client 的方式, 只是這裡多了 API 服務的網址。注意在自己家 (事實上是 Google Colab 的機器), 預設服務 port 是 11434。\n",
        "client = OpenAI(\n",
        "    api_key=api_key,\n",
        "    base_url=\"http://localhost:11434/v1\"\n",
        ")"
      ],
      "metadata": {
        "id": "LYOt-79JSuAC"
      },
      "execution_count": null,
      "outputs": []
    },
    {
      "cell_type": "markdown",
      "source": [
        "### 3. 打造一個對話機器人 web app!"
      ],
      "metadata": {
        "id": "owMkOMlNhdbe"
      }
    },
    {
      "cell_type": "code",
      "source": [
        "!pip install gradio\n",
        "\n",
        "import gradio as gr"
      ],
      "metadata": {
        "id": "pC1s368ihoNL"
      },
      "execution_count": null,
      "outputs": []
    },
    {
      "cell_type": "code",
      "source": [
        "title = \"旅遊美食小幫手\"\n",
        "system = \"你是一位熱情又專業的旅遊導覽機器人，擅長推薦景點與當地美食，語氣親切，彷彿像朋友一樣陪伴旅行，回答請盡量使用臺灣習慣的繁體中文。\"\n",
        "description = \"嗨～我是你的旅遊美食小幫手 🍱✈️ 想去哪裡玩？我可以幫你推薦景點、美食，還有當地的小故事唷！\"\n",
        "model = \"gemma3:4b\"\n",
        "\n",
        "initial_messages = [{\"role\": \"system\", \"content\": system},\n",
        "           {\"role\": \"assistant\", \"content\": description}]\n",
        "\n",
        "state = gr.State(initial_messages)"
      ],
      "metadata": {
        "id": "60W4nBd0h15M"
      },
      "execution_count": null,
      "outputs": []
    },
    {
      "cell_type": "code",
      "source": [
        "def travel_bot(prompt, messages):\n",
        "    # 判斷是否為結束對話指令\n",
        "    if prompt.strip().lower() in [\"bye\", \"exit\", \"quit\", \"再見\", \"掰掰\", \"bye bye\"]:\n",
        "        farewell = \"謝謝你的提問～祝你旅途愉快，有緣再見囉！👋\"\n",
        "        messages.append({\"role\": \"user\", \"content\": prompt})\n",
        "        messages.append({\"role\": \"assistant\", \"content\": farewell})\n",
        "        return messages, gr.update(visible=False)  # 關閉 chat 輸出\n",
        "\n",
        "    messages.append({\"role\": \"user\", \"content\": prompt})\n",
        "    chat_completion = client.chat.completions.create(\n",
        "        messages=messages,\n",
        "        model=model,\n",
        "    )\n",
        "    reply = chat_completion.choices[0].message.content\n",
        "    messages.append({\"role\": \"assistant\", \"content\": reply})\n",
        "    return messages, messages"
      ],
      "metadata": {
        "id": "bCsN_FzdiP_w"
      },
      "execution_count": null,
      "outputs": []
    },
    {
      "cell_type": "code",
      "source": [
        "with gr.Blocks(title=title) as demo:\n",
        "    gr.Markdown(f\"## 🤖 {title}\\n{description}\")\n",
        "    chatbot = gr.Chatbot(type=\"messages\")\n",
        "    msg = gr.Textbox(label=\"輸入訊息\")\n",
        "    state = gr.State(initial_messages.copy())  # 務必用 copy()\n",
        "\n",
        "    msg.submit(fn=travel_bot, inputs=[msg, state], outputs=[chatbot, state])\n",
        "\n",
        "demo.launch(share=True, debug=True)"
      ],
      "metadata": {
        "id": "ZeOCHLvLxkab"
      },
      "execution_count": null,
      "outputs": []
    }
  ]
}